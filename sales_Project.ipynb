{
 "cells": [
  {
   "cell_type": "code",
   "execution_count": 0,
   "metadata": {
    "application/vnd.databricks.v1+cell": {
     "cellMetadata": {
      "byteLimit": 2048000,
      "implicitDf": true,
      "rowLimit": 10000
     },
     "inputWidgets": {},
     "nuid": "ff90a932-15d4-4c9a-a980-628378034a5f",
     "showTitle": false,
     "tableResultSettingsMap": {},
     "title": ""
    }
   },
   "outputs": [],
   "source": [
    "%sql\n",
    "CREATE TABLE sales (\n",
    "    sale_id BIGINT GENERATED ALWAYS AS IDENTITY,\n",
    "    region STRING,\n",
    "    product STRING,\n",
    "    quantity INT,\n",
    "    amount DECIMAL(10,2),\n",
    "    sale_date DATE\n",
    ");\n"
   ]
  },
  {
   "cell_type": "code",
   "execution_count": 0,
   "metadata": {
    "application/vnd.databricks.v1+cell": {
     "cellMetadata": {
      "byteLimit": 2048000,
      "implicitDf": true,
      "rowLimit": 10000
     },
     "inputWidgets": {},
     "nuid": "1fad8377-8e51-4999-8d6d-0d92316b6276",
     "showTitle": false,
     "tableResultSettingsMap": {},
     "title": ""
    }
   },
   "outputs": [],
   "source": [
    "%sql\n",
    "INSERT INTO sales (region, product, quantity, amount, sale_date) VALUES\n",
    "('North', 'Laptop', 2, 1200.00, DATE'2025-01-05'),\n",
    "('South', 'Smartphone', 5, 2500.00, DATE'2025-01-08'),\n",
    "('East', 'Tablet', 3, 900.00, DATE'2025-01-12'),\n",
    "('West', 'Headphones', 10, 500.00, DATE'2025-01-15'),\n",
    "('North', 'Monitor', 4, 800.00, DATE'2025-01-18'),\n",
    "('South', 'Keyboard', 6, 300.00, DATE'2025-01-20'),\n",
    "('East', 'Mouse', 12, 240.00, DATE'2025-01-21'),\n",
    "('West', 'Printer', 1, 400.00, DATE'2025-01-22'),\n",
    "('North', 'Smartwatch', 3, 600.00, DATE'2025-01-25'),\n",
    "('South', 'Laptop', 1, 600.00, DATE'2025-01-28'),\n",
    "('East', 'Smartphone', 2, 1000.00, DATE'2025-02-01'),\n",
    "('West', 'Tablet', 4, 1200.00, DATE'2025-02-03'),\n",
    "('North', 'Headphones', 8, 400.00, DATE'2025-02-06'),\n",
    "('South', 'Monitor', 2, 400.00, DATE'2025-02-07'),\n",
    "('East', 'Keyboard', 5, 250.00, DATE'2025-02-08'),\n",
    "('West', 'Mouse', 7, 140.00, DATE'2025-02-09'),\n",
    "('North', 'Printer', 1, 450.00, DATE'2025-02-10'),\n",
    "('South', 'Smartwatch', 4, 800.00, DATE'2025-02-12'),\n",
    "('East', 'Laptop', 2, 1100.00, DATE'2025-02-14'),\n",
    "('West', 'Smartphone', 3, 1500.00, DATE'2025-02-15');\n"
   ]
  },
  {
   "cell_type": "code",
   "execution_count": 0,
   "metadata": {
    "application/vnd.databricks.v1+cell": {
     "cellMetadata": {
      "byteLimit": 2048000,
      "implicitDf": true,
      "rowLimit": 10000
     },
     "inputWidgets": {},
     "nuid": "2192bc42-892d-4f87-be88-f05123958589",
     "showTitle": false,
     "tableResultSettingsMap": {},
     "title": ""
    }
   },
   "outputs": [],
   "source": [
    "%sql\n",
    "SELECT * FROM sales;\n"
   ]
  },
  {
   "cell_type": "code",
   "execution_count": 0,
   "metadata": {
    "application/vnd.databricks.v1+cell": {
     "cellMetadata": {
      "byteLimit": 2048000,
      "implicitDf": true,
      "rowLimit": 10000
     },
     "inputWidgets": {},
     "nuid": "82cab1db-b4b9-4a54-bad1-fafeb2238999",
     "showTitle": false,
     "tableResultSettingsMap": {},
     "title": ""
    }
   },
   "outputs": [],
   "source": [
    "%sql\n",
    "SELECT \n",
    "    region,\n",
    "    SUM(amount) AS total_sales\n",
    "FROM sales\n",
    "GROUP BY region\n",
    "ORDER BY total_sales DESC;\n"
   ]
  },
  {
   "cell_type": "code",
   "execution_count": 0,
   "metadata": {
    "application/vnd.databricks.v1+cell": {
     "cellMetadata": {
      "byteLimit": 2048000,
      "implicitDf": true,
      "rowLimit": 10000
     },
     "inputWidgets": {},
     "nuid": "38c84786-1ce0-4424-a75a-e776efa2144b",
     "showTitle": false,
     "tableResultSettingsMap": {},
     "title": ""
    }
   },
   "outputs": [],
   "source": [
    "%sql\n",
    "SELECT *\n",
    "FROM sales\n",
    "WHERE sale_date >= DATE'2023-10-02'\n",
    "ORDER BY sale_date;\n"
   ]
  },
  {
   "cell_type": "code",
   "execution_count": 0,
   "metadata": {
    "application/vnd.databricks.v1+cell": {
     "cellMetadata": {
      "byteLimit": 2048000,
      "implicitDf": true,
      "rowLimit": 10000
     },
     "inputWidgets": {},
     "nuid": "81c8156a-03c6-4dff-bd49-b8069549dd09",
     "showTitle": false,
     "tableResultSettingsMap": {},
     "title": ""
    }
   },
   "outputs": [],
   "source": [
    "%sql\n",
    "\n",
    "SELECT *\n",
    "FROM sales\n",
    "WHERE sale_date <= DATE'2023-10-02'\n",
    "ORDER BY sale_date;\n"
   ]
  },
  {
   "cell_type": "code",
   "execution_count": 0,
   "metadata": {
    "application/vnd.databricks.v1+cell": {
     "cellMetadata": {
      "byteLimit": 2048000,
      "implicitDf": true,
      "rowLimit": 10000
     },
     "inputWidgets": {},
     "nuid": "5b2beae6-bc4e-4763-a195-ce5279ef80f9",
     "showTitle": false,
     "tableResultSettingsMap": {},
     "title": ""
    }
   },
   "outputs": [],
   "source": [
    "%sql\n",
    "\n",
    "-- we first need to add a customer_name (or customer_id) column.\n",
    "\n",
    "ALTER TABLE sales ADD COLUMN customer_name STRING;\n"
   ]
  },
  {
   "cell_type": "code",
   "execution_count": 0,
   "metadata": {
    "application/vnd.databricks.v1+cell": {
     "cellMetadata": {
      "byteLimit": 2048000,
      "implicitDf": true,
      "rowLimit": 10000
     },
     "inputWidgets": {},
     "nuid": "d3f0f250-47b8-4b3a-a967-2c7c2822ca4e",
     "showTitle": false,
     "tableResultSettingsMap": {},
     "title": ""
    }
   },
   "outputs": [],
   "source": [
    "%sql\n",
    "INSERT INTO sales (region, product, quantity, amount, sale_date, customer_name) VALUES\n",
    "('North', 'Laptop', 2, 1200.00, DATE'2025-01-05', 'Akash'),\n",
    "('South', 'Smartphone', 5, 2500.00, DATE'2025-01-08', 'Ravi'),\n",
    "('East', 'Tablet', 3, 900.00, DATE'2025-01-12', 'Sneha'),\n",
    "('West', 'Headphones', 10, 500.00, DATE'2025-01-15', 'Priya');\n"
   ]
  },
  {
   "cell_type": "code",
   "execution_count": 0,
   "metadata": {
    "application/vnd.databricks.v1+cell": {
     "cellMetadata": {
      "byteLimit": 2048000,
      "implicitDf": true,
      "rowLimit": 10000
     },
     "inputWidgets": {},
     "nuid": "f6d65913-a886-4d41-8ec2-a3f6e3888972",
     "showTitle": false,
     "tableResultSettingsMap": {},
     "title": ""
    }
   },
   "outputs": [],
   "source": [
    "%sql\n",
    "Select *\n",
    "from sales"
   ]
  },
  {
   "cell_type": "code",
   "execution_count": 0,
   "metadata": {
    "application/vnd.databricks.v1+cell": {
     "cellMetadata": {
      "byteLimit": 2048000,
      "implicitDf": true,
      "rowLimit": 10000
     },
     "inputWidgets": {},
     "nuid": "1c01731b-ccd9-49a9-b4f4-953999e2a246",
     "showTitle": false,
     "tableResultSettingsMap": {},
     "title": ""
    }
   },
   "outputs": [],
   "source": [
    "%sql\n",
    "-- Update first 20 rows only\n",
    "\n",
    "UPDATE sales SET customer_name = 'Akash'   WHERE sale_id = 1;\n",
    "UPDATE sales SET customer_name = 'Ravi'    WHERE sale_id = 2;\n",
    "UPDATE sales SET customer_name = 'Sneha'   WHERE sale_id = 3;\n",
    "UPDATE sales SET customer_name = 'Priya'   WHERE sale_id = 4;\n",
    "UPDATE sales SET customer_name = 'Vikram'  WHERE sale_id = 5;\n",
    "UPDATE sales SET customer_name = 'Anjali'  WHERE sale_id = 6;\n",
    "UPDATE sales SET customer_name = 'Rahul'   WHERE sale_id = 7;\n",
    "UPDATE sales SET customer_name = 'Meera'   WHERE sale_id = 8;\n",
    "UPDATE sales SET customer_name = 'Kiran'   WHERE sale_id = 9;\n",
    "UPDATE sales SET customer_name = 'Deepa'   WHERE sale_id = 10;\n",
    "UPDATE sales SET customer_name = 'Arjun'   WHERE sale_id = 11;\n",
    "UPDATE sales SET customer_name = 'Simran'  WHERE sale_id = 12;\n",
    "UPDATE sales SET customer_name = 'Manoj'   WHERE sale_id = 13;\n",
    "UPDATE sales SET customer_name = 'Lakshmi' WHERE sale_id = 14;\n",
    "UPDATE sales SET customer_name = 'Neha'    WHERE sale_id = 15;\n",
    "UPDATE sales SET customer_name = 'Suresh'  WHERE sale_id = 16;\n",
    "UPDATE sales SET customer_name = 'Aditi'   WHERE sale_id = 17;\n",
    "UPDATE sales SET customer_name = 'Gaurav'  WHERE sale_id = 18;\n",
    "UPDATE sales SET customer_name = 'Tanvi'   WHERE sale_id = 19;\n",
    "UPDATE sales SET customer_name = 'Rohan'   WHERE sale_id = 20;\n"
   ]
  },
  {
   "cell_type": "code",
   "execution_count": 0,
   "metadata": {
    "application/vnd.databricks.v1+cell": {
     "cellMetadata": {
      "byteLimit": 2048000,
      "implicitDf": true,
      "rowLimit": 10000
     },
     "inputWidgets": {},
     "nuid": "4cbab7b8-bb79-4040-8b11-b1f3c6c80df2",
     "showTitle": false,
     "tableResultSettingsMap": {},
     "title": ""
    }
   },
   "outputs": [],
   "source": [
    "%sql\n",
    "\n",
    "--Find all customers who made purchases greater than ₹1000.\n",
    "\n",
    "SELECT DISTINCT customer_name\n",
    "FROM sales\n",
    "WHERE amount > 1000;\n"
   ]
  },
  {
   "cell_type": "code",
   "execution_count": 0,
   "metadata": {
    "application/vnd.databricks.v1+cell": {
     "cellMetadata": {
      "byteLimit": 2048000,
      "implicitDf": true,
      "rowLimit": 10000
     },
     "inputWidgets": {},
     "nuid": "ea9d0b29-21aa-4cfe-bbb5-23c477347854",
     "showTitle": false,
     "tableResultSettingsMap": {},
     "title": ""
    }
   },
   "outputs": [],
   "source": [
    "%sql\n",
    "\n",
    "-- customers whose total purchases (sum across multiple orders) exceed ₹1500,\n",
    "\n",
    "SELECT customer_name, SUM(amount) AS total_spent\n",
    "FROM sales\n",
    "GROUP BY customer_name\n",
    "HAVING SUM(amount) > 1500\n",
    "ORDER BY total_spent DESC;\n"
   ]
  },
  {
   "cell_type": "code",
   "execution_count": 0,
   "metadata": {
    "application/vnd.databricks.v1+cell": {
     "cellMetadata": {
      "byteLimit": 2048000,
      "implicitDf": true,
      "rowLimit": 10000
     },
     "inputWidgets": {},
     "nuid": "a57e0ca3-d4f0-4841-a33f-6b9113566c20",
     "showTitle": false,
     "tableResultSettingsMap": {},
     "title": ""
    }
   },
   "outputs": [],
   "source": [
    "%sql\n",
    "\n",
    "--Write a query to display the highest single sale amount and its region.\n",
    "\n",
    "SELECT customer_name, region, amount AS highest_sale\n",
    "FROM sales\n",
    "ORDER BY amount DESC\n",
    "LIMIT 1;\n"
   ]
  },
  {
   "cell_type": "code",
   "execution_count": 0,
   "metadata": {
    "application/vnd.databricks.v1+cell": {
     "cellMetadata": {
      "byteLimit": 2048000,
      "implicitDf": true,
      "rowLimit": 10000
     },
     "inputWidgets": {},
     "nuid": "827bcf4b-15cf-4f86-80e4-4a4cdfe91402",
     "showTitle": false,
     "tableResultSettingsMap": {},
     "title": ""
    }
   },
   "outputs": [],
   "source": [
    "%sql\n",
    "\n",
    "--This will return all regions tied for the top sale.\n",
    "\n",
    "SELECT region, amount\n",
    "FROM sales\n",
    "WHERE amount = (SELECT MAX(amount) FROM sales);\n"
   ]
  },
  {
   "cell_type": "code",
   "execution_count": 0,
   "metadata": {
    "application/vnd.databricks.v1+cell": {
     "cellMetadata": {
      "byteLimit": 2048000,
      "implicitDf": true,
      "rowLimit": 10000
     },
     "inputWidgets": {},
     "nuid": "758e6227-dee5-4234-95ba-ab0622c72d29",
     "showTitle": false,
     "tableResultSettingsMap": {},
     "title": ""
    }
   },
   "outputs": [],
   "source": [
    "%sql\n",
    "\n",
    "--Return each region only once\n",
    "\n",
    "SELECT DISTINCT region, amount\n",
    "FROM sales\n",
    "WHERE amount = (SELECT MAX(amount) FROM sales);\n"
   ]
  }
 ],
 "metadata": {
  "application/vnd.databricks.v1+notebook": {
   "computePreferences": null,
   "dashboards": [],
   "environmentMetadata": {
    "base_environment": "",
    "environment_version": "2"
   },
   "inputWidgetPreferences": null,
   "language": "python",
   "notebookMetadata": {
    "mostRecentlyExecutedCommandWithImplicitDF": {
     "commandId": 7298777878555386,
     "dataframes": [
      "_sqldf"
     ]
    },
    "pythonIndentUnit": 4
   },
   "notebookName": "sales_Project",
   "widgets": {}
  },
  "language_info": {
   "name": "python"
  }
 },
 "nbformat": 4,
 "nbformat_minor": 0
}
